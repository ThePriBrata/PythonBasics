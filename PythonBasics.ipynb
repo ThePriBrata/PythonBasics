{
  "nbformat": 4,
  "nbformat_minor": 0,
  "metadata": {
    "colab": {
      "provenance": []
    },
    "kernelspec": {
      "name": "python3",
      "display_name": "Python 3"
    },
    "language_info": {
      "name": "python"
    }
  },
  "cells": [
    {
      "cell_type": "markdown",
      "source": [
        "# Python Basics"
      ],
      "metadata": {
        "id": "7C_QHOTQF_IG"
      }
    },
    {
      "cell_type": "markdown",
      "source": [
        "01. What is Python, and why is it popular?\n",
        "\n",
        "  Python is a high-level, interpreted programming language known for its simplicity and readability. It is popular due to:\n",
        "\n",
        "  Ease of Learning: Its simple syntax is similar to English, making it easy for beginners.\n",
        "\n",
        "  Versatility: It is used in web development, data analysis, artificial intelligence, scientific computing, and more.\n",
        "\n",
        "  Community Support: A large, active community provides extensive libraries and frameworks.\n",
        "\n",
        "  Interpreted Language: Python code is executed line-by-line, making debugging easier.\n",
        "\n",
        "02. What is an interpreter in Python?\n",
        "\n",
        "  An interpreter in Python is a program that executes Python code line-by-line, converting it into machine code that the computer can understand. This allows for quick testing and debugging.\n",
        "\n",
        "03. What are pre-defined keywords in Python?\n",
        "\n",
        "  Pre-defined keywords in Python are reserved words that have special meanings and cannot be used as identifiers. Examples include if, else, while, for, try, import, and return.\n",
        "\n",
        "04. Can keywords be used as variable names?\n",
        "\n",
        "  No, keywords cannot be used as variable names because they are reserved words with special meanings in the language.\n",
        "\n",
        "05. What is mutability in Python?\n",
        "\n",
        "  Mutability refers to the ability of an object to be changed after it has been created. Mutable objects can have their values altered, while immutable objects cannot.\n",
        "\n",
        "06. Why are lists mutable, but tuples are immutable?\n",
        "\n",
        "  Lists are mutable because they allow modification of their elements after creation, which is useful for dynamic data. Tuples, on the other hand, are immutable, providing a way to create constant sets of values that cannot be altered.\n",
        "\n",
        "07. What is the difference between \"==\" and \"is\" operators in Python?\n",
        "\n",
        "  \"==\" checks for value equality: it determines if the values of two variables are the same.\n",
        "\n",
        "  \"is\" checks for identity equality: it determines if two variables point to the same object in memory.\n",
        "\n",
        "08. What are logical operators in Python?\n",
        "\n",
        "  Logical operators in Python are used to combine conditional statements:\n",
        "\n",
        "  and: returns True if both statements are true.\n",
        "\n",
        "  or: returns True if at least one statement is true.\n",
        "\n",
        "  not: reverses the result of a statement.\n",
        "\n",
        "09. What is type casting in Python?\n",
        "\n",
        "  Type casting is the process of converting a variable from one data type to another. It can be done implicitly by the interpreter or explicitly by the programmer using functions like int(), str(), float(), etc.\n",
        "\n",
        "10. What is the difference between implicit and explicit type casting?\n",
        "\n",
        "  Implicit type casting: The interpreter automatically converts data types without user intervention.\n",
        "\n",
        "  Explicit type casting: The programmer manually converts data types using built-in functions.\n",
        "\n",
        "11. What is the purpose of conditional statements in Python?\n",
        "\n",
        "  Conditional statements allow the execution of specific blocks of code based on certain conditions, enabling decision-making in the program. Examples include if, elif, and else.\n",
        "\n",
        "12. How does the elif statement work?\n",
        "\n",
        "  The elif statement, short for \"else if,\" allows for multiple conditions to be checked sequentially. If the if condition is false, the elif conditions are checked in order. If a true condition is found, the corresponding block of code is executed.\n",
        "\n",
        "13. What is the difference between for and while loops?\n",
        "\n",
        "  For loop: Iterates over a sequence (like a list, tuple, string, or range) and executes the block of code for each element.\n",
        "\n",
        "  While loop: Repeats a block of code as long as the specified condition is true.\n",
        "\n",
        "14. Describe a scenario where a while loop is more suitable than a for loop.\n",
        "\n",
        "  A while loop is more suitable when the number of iterations is not known in advance and depends on a condition. For example, reading user input until a specific condition is met, such as reading numbers until the user enters a negative number."
      ],
      "metadata": {
        "id": "NSy6z9J1FxMD"
      }
    },
    {
      "cell_type": "code",
      "source": [
        "# 01. Print \"Hello, World!\"\n",
        "print(\"Hello, World!\")"
      ],
      "metadata": {
        "colab": {
          "base_uri": "https://localhost:8080/"
        },
        "id": "Vhw7wonKFe8I",
        "outputId": "0447ca67-b08b-41ae-d056-d0c21806f66d"
      },
      "execution_count": 5,
      "outputs": [
        {
          "output_type": "stream",
          "name": "stdout",
          "text": [
            "Hello, World!\n"
          ]
        }
      ]
    },
    {
      "cell_type": "code",
      "source": [
        "# 02. Display name and age\n",
        "name = \"Priyabrata Panda\"  # Replace with your name\n",
        "age = 29  # Replace with your age\n",
        "print(f\"My name is {name} and I am {age} years old.\")"
      ],
      "metadata": {
        "colab": {
          "base_uri": "https://localhost:8080/"
        },
        "id": "AMKXvBcyJxjt",
        "outputId": "7bdcc670-15eb-44b0-d2b8-ad5dfd913c5e"
      },
      "execution_count": 6,
      "outputs": [
        {
          "output_type": "stream",
          "name": "stdout",
          "text": [
            "My name is Priyabrata Panda and I am 29 years old.\n"
          ]
        }
      ]
    },
    {
      "cell_type": "code",
      "source": [
        "# 03. Print all pre-defined keywords in Python\n",
        "import keyword\n",
        "print(keyword.kwlist)"
      ],
      "metadata": {
        "colab": {
          "base_uri": "https://localhost:8080/"
        },
        "id": "FvUHZE_hJ-IQ",
        "outputId": "0125180a-340a-45b3-940f-05ddf72710be"
      },
      "execution_count": 7,
      "outputs": [
        {
          "output_type": "stream",
          "name": "stdout",
          "text": [
            "['False', 'None', 'True', 'and', 'as', 'assert', 'async', 'await', 'break', 'class', 'continue', 'def', 'del', 'elif', 'else', 'except', 'finally', 'for', 'from', 'global', 'if', 'import', 'in', 'is', 'lambda', 'nonlocal', 'not', 'or', 'pass', 'raise', 'return', 'try', 'while', 'with', 'yield']\n"
          ]
        }
      ]
    },
    {
      "cell_type": "code",
      "source": [
        "# 04. Check if a word is a Python keyword\n",
        "def is_keyword(word):\n",
        "    return word in keyword.kwlist\n",
        "\n",
        "word = input(\"Enter a word: \")\n",
        "print(f\"{word} is a keyword: {is_keyword(word)}\")"
      ],
      "metadata": {
        "colab": {
          "base_uri": "https://localhost:8080/"
        },
        "id": "ldAP42VCKTmH",
        "outputId": "09124555-5779-46f3-e63d-17fe8952d87e"
      },
      "execution_count": 12,
      "outputs": [
        {
          "output_type": "stream",
          "name": "stdout",
          "text": [
            "Enter a word: class\n",
            "class is a keyword: True\n"
          ]
        }
      ]
    },
    {
      "cell_type": "code",
      "source": [
        "# 05. Demonstrate list (mutable) vs tuple (immutable)\n",
        "my_list = [1, 2, 3]\n",
        "my_tuple = (1, 2, 3)\n",
        "\n",
        "my_list[0] = 10  # This works\n",
        "print(\"Modified list:\", my_list)\n",
        "my_tuple[0] = 10 # Showing an error\"TypeError: 'tuple' object does not support item assignment\""
      ],
      "metadata": {
        "colab": {
          "base_uri": "https://localhost:8080/",
          "height": 200
        },
        "id": "XNwcJDFgKaZb",
        "outputId": "9ba576d7-ee8f-4bf2-8db5-513a0797e83c"
      },
      "execution_count": 15,
      "outputs": [
        {
          "output_type": "stream",
          "name": "stdout",
          "text": [
            "Modified list: [10, 2, 3]\n"
          ]
        },
        {
          "output_type": "error",
          "ename": "TypeError",
          "evalue": "'tuple' object does not support item assignment",
          "traceback": [
            "\u001b[0;31m---------------------------------------------------------------------------\u001b[0m",
            "\u001b[0;31mTypeError\u001b[0m                                 Traceback (most recent call last)",
            "\u001b[0;32m<ipython-input-15-d79b9ddbc16a>\u001b[0m in \u001b[0;36m<cell line: 0>\u001b[0;34m()\u001b[0m\n\u001b[1;32m      5\u001b[0m \u001b[0mmy_list\u001b[0m\u001b[0;34m[\u001b[0m\u001b[0;36m0\u001b[0m\u001b[0;34m]\u001b[0m \u001b[0;34m=\u001b[0m \u001b[0;36m10\u001b[0m  \u001b[0;31m# This works\u001b[0m\u001b[0;34m\u001b[0m\u001b[0;34m\u001b[0m\u001b[0m\n\u001b[1;32m      6\u001b[0m \u001b[0mprint\u001b[0m\u001b[0;34m(\u001b[0m\u001b[0;34m\"Modified list:\"\u001b[0m\u001b[0;34m,\u001b[0m \u001b[0mmy_list\u001b[0m\u001b[0;34m)\u001b[0m\u001b[0;34m\u001b[0m\u001b[0;34m\u001b[0m\u001b[0m\n\u001b[0;32m----> 7\u001b[0;31m \u001b[0mmy_tuple\u001b[0m\u001b[0;34m[\u001b[0m\u001b[0;36m0\u001b[0m\u001b[0;34m]\u001b[0m \u001b[0;34m=\u001b[0m \u001b[0;36m10\u001b[0m\u001b[0;34m\u001b[0m\u001b[0;34m\u001b[0m\u001b[0m\n\u001b[0m",
            "\u001b[0;31mTypeError\u001b[0m: 'tuple' object does not support item assignment"
          ]
        }
      ]
    },
    {
      "cell_type": "code",
      "source": [
        "# 06 & 07. Demonstrate mutable (list) vs immutable (int) arguments\n",
        "def modify_data(immutable, mutable):\n",
        "    immutable += 1\n",
        "    mutable.append(4)\n",
        "    print(\"Inside function:\", immutable, mutable)\n",
        "\n",
        "num = 10\n",
        "lst = [1, 2, 3]\n",
        "modify_data(num, lst)\n",
        "print(\"Outside function:\", num, lst)"
      ],
      "metadata": {
        "colab": {
          "base_uri": "https://localhost:8080/"
        },
        "id": "urciEQXxLI2W",
        "outputId": "54f51cc7-29a3-4b5d-9899-5f58cadff9d8"
      },
      "execution_count": 16,
      "outputs": [
        {
          "output_type": "stream",
          "name": "stdout",
          "text": [
            "Inside function: 11 [1, 2, 3, 4]\n",
            "Outside function: 10 [1, 2, 3, 4]\n"
          ]
        }
      ]
    },
    {
      "cell_type": "code",
      "source": [
        "# 08. Demonstrate logical operators\n",
        "a, b = True, False\n",
        "print(\"a and b:\", a and b)\n",
        "print(\"a or b:\", a or b)\n",
        "print(\"not a:\", not a)"
      ],
      "metadata": {
        "colab": {
          "base_uri": "https://localhost:8080/"
        },
        "id": "IZBsIFzDNEz8",
        "outputId": "06aa550d-d3fb-4bab-e860-39955539646e"
      },
      "execution_count": 17,
      "outputs": [
        {
          "output_type": "stream",
          "name": "stdout",
          "text": [
            "a and b: False\n",
            "a or b: True\n",
            "not a: False\n"
          ]
        }
      ]
    },
    {
      "cell_type": "code",
      "source": [
        "# 09. Convert input string to int, float, and boolean\n",
        "user_input = input(\"Enter a value: \")\n",
        "print(\"As Integer:\", int(user_input))\n",
        "print(\"As Float:\", float(user_input))\n",
        "print(\"As Boolean:\", bool(user_input))"
      ],
      "metadata": {
        "colab": {
          "base_uri": "https://localhost:8080/"
        },
        "id": "tFe8bmG2NKwH",
        "outputId": "3df5efa5-ad4b-4649-e058-0d3307beabd3"
      },
      "execution_count": 22,
      "outputs": [
        {
          "output_type": "stream",
          "name": "stdout",
          "text": [
            "Enter a value: 2\n",
            "As Integer: 2\n",
            "As Float: 2.0\n",
            "As Boolean: True\n"
          ]
        }
      ]
    },
    {
      "cell_type": "code",
      "source": [
        "# 10. Type casting with list elements\n",
        "str_list = [\"1\", \"2\", \"3\"]\n",
        "int_list = [int(i) for i in str_list]\n",
        "print(\"Converted list:\", int_list)"
      ],
      "metadata": {
        "colab": {
          "base_uri": "https://localhost:8080/"
        },
        "id": "-koMjpxUNQCu",
        "outputId": "418e01d2-958a-4689-8ce8-2aab7b0784ed"
      },
      "execution_count": 23,
      "outputs": [
        {
          "output_type": "stream",
          "name": "stdout",
          "text": [
            "Converted list: [1, 2, 3]\n"
          ]
        }
      ]
    },
    {
      "cell_type": "code",
      "source": [
        "# 11. Check if a number is positive, negative, or zero\n",
        "num = float(input(\"Enter a number: \"))\n",
        "if num > 0:\n",
        "    print(\"Positive number\")\n",
        "elif num < 0:\n",
        "    print(\"Negative number\")\n",
        "else:\n",
        "    print(\"Zero\")"
      ],
      "metadata": {
        "colab": {
          "base_uri": "https://localhost:8080/"
        },
        "id": "59K6AVbNNnTu",
        "outputId": "87423135-183b-4ba5-db6b-9b7872dde042"
      },
      "execution_count": 27,
      "outputs": [
        {
          "output_type": "stream",
          "name": "stdout",
          "text": [
            "Enter a number: -5\n",
            "Negative number\n"
          ]
        }
      ]
    },
    {
      "cell_type": "code",
      "source": [
        "# 12. Print numbers from 1 to 10 using a for loop\n",
        "for i in range(1, 11):\n",
        "    print(i)\n"
      ],
      "metadata": {
        "colab": {
          "base_uri": "https://localhost:8080/"
        },
        "id": "Lh-Mw6n0Nu6T",
        "outputId": "8db57bdf-3f27-45c1-c260-d92382451c16"
      },
      "execution_count": 28,
      "outputs": [
        {
          "output_type": "stream",
          "name": "stdout",
          "text": [
            "1\n",
            "2\n",
            "3\n",
            "4\n",
            "5\n",
            "6\n",
            "7\n",
            "8\n",
            "9\n",
            "10\n"
          ]
        }
      ]
    },
    {
      "cell_type": "code",
      "source": [
        "# 13. Sum of even numbers between 1 and 50\n",
        "sum_even = sum(i for i in range(1, 51) if i % 2 == 0)\n",
        "print(\"Sum of even numbers:\", sum_even)"
      ],
      "metadata": {
        "colab": {
          "base_uri": "https://localhost:8080/"
        },
        "id": "H1Q_-h_xOBPE",
        "outputId": "269effe4-b1c4-4305-869e-821fed58f736"
      },
      "execution_count": 29,
      "outputs": [
        {
          "output_type": "stream",
          "name": "stdout",
          "text": [
            "Sum of even numbers: 650\n"
          ]
        }
      ]
    },
    {
      "cell_type": "code",
      "source": [
        "# 14. Reverse a string using a while loop\n",
        "s = input(\"Enter a string: \")\n",
        "reversed_s = \"\"\n",
        "i = len(s) - 1\n",
        "while i >= 0:\n",
        "    reversed_s += s[i]\n",
        "    i -= 1\n",
        "print(\"Reversed string:\", reversed_s)"
      ],
      "metadata": {
        "colab": {
          "base_uri": "https://localhost:8080/"
        },
        "id": "W_MUsAQeOE9i",
        "outputId": "2379b33c-8d88-4bb9-861b-80f66cd96415"
      },
      "execution_count": 31,
      "outputs": [
        {
          "output_type": "stream",
          "name": "stdout",
          "text": [
            "Enter a string: Priyabrata\n",
            "Reversed string: atarbayirP\n"
          ]
        }
      ]
    },
    {
      "cell_type": "code",
      "source": [
        "# 15. Factorial using a while loop\n",
        "n = int(input(\"Enter a number: \"))\n",
        "fact = 1\n",
        "i = 1\n",
        "while i <= n:\n",
        "    fact *= i\n",
        "    i += 1\n",
        "print(\"Factorial:\", fact)"
      ],
      "metadata": {
        "colab": {
          "base_uri": "https://localhost:8080/"
        },
        "id": "LcuyIH8HOPbf",
        "outputId": "061ad840-f947-407e-9492-eeb5603be275"
      },
      "execution_count": 33,
      "outputs": [
        {
          "output_type": "stream",
          "name": "stdout",
          "text": [
            "Enter a number: 3\n",
            "Factorial: 6\n"
          ]
        }
      ]
    },
    {
      "cell_type": "code",
      "source": [],
      "metadata": {
        "id": "Zzu97ytWOgYX"
      },
      "execution_count": null,
      "outputs": []
    }
  ]
}